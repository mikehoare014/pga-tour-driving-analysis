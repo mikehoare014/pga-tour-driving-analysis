{
 "cells": [
  {
   "cell_type": "markdown",
   "metadata": {},
   "source": [
    "# 2021 PGA Tour Driving Distance Analysis\n",
    "Greetings! In this data analysis project, I wanted to gather data from to the PGA tour to see the relationship between driving distance and driving accuracy. "
   ]
  },
  {
   "cell_type": "code",
   "execution_count": 67,
   "metadata": {},
   "outputs": [
    {
     "data": {
      "text/html": [
       "<div>\n",
       "<style scoped>\n",
       "    .dataframe tbody tr th:only-of-type {\n",
       "        vertical-align: middle;\n",
       "    }\n",
       "\n",
       "    .dataframe tbody tr th {\n",
       "        vertical-align: top;\n",
       "    }\n",
       "\n",
       "    .dataframe thead th {\n",
       "        text-align: right;\n",
       "    }\n",
       "</style>\n",
       "<table border=\"1\" class=\"dataframe\">\n",
       "  <thead>\n",
       "    <tr style=\"text-align: right;\">\n",
       "      <th></th>\n",
       "      <th>RANK THIS WEEK</th>\n",
       "      <th>RANK LAST WEEK</th>\n",
       "      <th>PLAYER NAME</th>\n",
       "      <th>ROUNDS</th>\n",
       "      <th>AVG.</th>\n",
       "      <th>TOTAL DISTANCE</th>\n",
       "      <th>TOTAL DRIVES</th>\n",
       "    </tr>\n",
       "  </thead>\n",
       "  <tbody>\n",
       "    <tr>\n",
       "      <th>0</th>\n",
       "      <td>1</td>\n",
       "      <td>1</td>\n",
       "      <td>Bryson DeChambeau</td>\n",
       "      <td>83</td>\n",
       "      <td>323.7</td>\n",
       "      <td>51790</td>\n",
       "      <td>160</td>\n",
       "    </tr>\n",
       "    <tr>\n",
       "      <th>1</th>\n",
       "      <td>2</td>\n",
       "      <td>2</td>\n",
       "      <td>Rory McIlroy</td>\n",
       "      <td>77</td>\n",
       "      <td>319.3</td>\n",
       "      <td>47252</td>\n",
       "      <td>148</td>\n",
       "    </tr>\n",
       "    <tr>\n",
       "      <th>2</th>\n",
       "      <td>3</td>\n",
       "      <td>3</td>\n",
       "      <td>Cameron Champ</td>\n",
       "      <td>79</td>\n",
       "      <td>317.1</td>\n",
       "      <td>47568</td>\n",
       "      <td>150</td>\n",
       "    </tr>\n",
       "    <tr>\n",
       "      <th>3</th>\n",
       "      <td>4</td>\n",
       "      <td>4</td>\n",
       "      <td>Matthew Wolff</td>\n",
       "      <td>60</td>\n",
       "      <td>315.9</td>\n",
       "      <td>34748</td>\n",
       "      <td>110</td>\n",
       "    </tr>\n",
       "    <tr>\n",
       "      <th>4</th>\n",
       "      <td>5</td>\n",
       "      <td>5</td>\n",
       "      <td>Will Gordon</td>\n",
       "      <td>92</td>\n",
       "      <td>315.0</td>\n",
       "      <td>55434</td>\n",
       "      <td>176</td>\n",
       "    </tr>\n",
       "  </tbody>\n",
       "</table>\n",
       "</div>"
      ],
      "text/plain": [
       "  RANK THIS WEEK RANK LAST WEEK        PLAYER NAME  ROUNDS   AVG.  \\\n",
       "0              1              1  Bryson DeChambeau      83  323.7   \n",
       "1              2              2       Rory McIlroy      77  319.3   \n",
       "2              3              3      Cameron Champ      79  317.1   \n",
       "3              4              4      Matthew Wolff      60  315.9   \n",
       "4              5              5        Will Gordon      92  315.0   \n",
       "\n",
       "   TOTAL DISTANCE  TOTAL DRIVES  \n",
       "0           51790           160  \n",
       "1           47252           148  \n",
       "2           47568           150  \n",
       "3           34748           110  \n",
       "4           55434           176  "
      ]
     },
     "execution_count": 67,
     "metadata": {},
     "output_type": "execute_result"
    }
   ],
   "source": [
    "# Read in PGA driving distance\n",
    "\n",
    "import pandas as pd\n",
    "\n",
    "\n",
    "url = 'https://www.pgatour.com/content/pgatour/stats/stat.101.y2021.html'\n",
    "\n",
    "html_tables = pd.read_html(url, attrs={'id': 'statsTable'})\n",
    "\n",
    "STATS_TABLE = 0\n",
    "\n",
    "driving_distance = html_tables[STATS_TABLE]\n",
    "\n",
    "column_names = ['RANK THIS WEEK', 'RANK LAST WEEK',\n",
    "                'PLAYER NAME', 'ROUNDS', 'AVG.', 'TOTAL DISTANCE', 'TOTAL DRIVES']\n",
    "\n",
    "driving_distance.columns = column_names\n",
    "\n",
    "driving_distance.head()\n"
   ]
  },
  {
   "cell_type": "code",
   "execution_count": 68,
   "metadata": {},
   "outputs": [
    {
     "name": "stdout",
     "output_type": "stream",
     "text": [
      "<class 'pandas.core.frame.DataFrame'>\n",
      "RangeIndex: 196 entries, 0 to 195\n",
      "Data columns (total 7 columns):\n",
      " #   Column          Non-Null Count  Dtype  \n",
      "---  ------          --------------  -----  \n",
      " 0   RANK THIS WEEK  196 non-null    object \n",
      " 1   RANK LAST WEEK  196 non-null    object \n",
      " 2   PLAYER NAME     196 non-null    object \n",
      " 3   ROUNDS          196 non-null    int64  \n",
      " 4   AVG.            196 non-null    float64\n",
      " 5   TOTAL DISTANCE  196 non-null    int64  \n",
      " 6   TOTAL DRIVES    196 non-null    int64  \n",
      "dtypes: float64(1), int64(3), object(3)\n",
      "memory usage: 10.8+ KB\n"
     ]
    }
   ],
   "source": [
    "driving_distance.info()"
   ]
  },
  {
   "cell_type": "code",
   "execution_count": 69,
   "metadata": {},
   "outputs": [
    {
     "data": {
      "text/html": [
       "<div>\n",
       "<style scoped>\n",
       "    .dataframe tbody tr th:only-of-type {\n",
       "        vertical-align: middle;\n",
       "    }\n",
       "\n",
       "    .dataframe tbody tr th {\n",
       "        vertical-align: top;\n",
       "    }\n",
       "\n",
       "    .dataframe thead th {\n",
       "        text-align: right;\n",
       "    }\n",
       "</style>\n",
       "<table border=\"1\" class=\"dataframe\">\n",
       "  <thead>\n",
       "    <tr style=\"text-align: right;\">\n",
       "      <th></th>\n",
       "      <th>PLAYER NAME</th>\n",
       "      <th>ROUNDS</th>\n",
       "      <th>AVG.</th>\n",
       "      <th>TOTAL DISTANCE</th>\n",
       "      <th>TOTAL DRIVES</th>\n",
       "    </tr>\n",
       "  </thead>\n",
       "  <tbody>\n",
       "    <tr>\n",
       "      <th>0</th>\n",
       "      <td>Bryson DeChambeau</td>\n",
       "      <td>83</td>\n",
       "      <td>323.7</td>\n",
       "      <td>51790</td>\n",
       "      <td>160</td>\n",
       "    </tr>\n",
       "    <tr>\n",
       "      <th>1</th>\n",
       "      <td>Rory McIlroy</td>\n",
       "      <td>77</td>\n",
       "      <td>319.3</td>\n",
       "      <td>47252</td>\n",
       "      <td>148</td>\n",
       "    </tr>\n",
       "    <tr>\n",
       "      <th>2</th>\n",
       "      <td>Cameron Champ</td>\n",
       "      <td>79</td>\n",
       "      <td>317.1</td>\n",
       "      <td>47568</td>\n",
       "      <td>150</td>\n",
       "    </tr>\n",
       "    <tr>\n",
       "      <th>3</th>\n",
       "      <td>Matthew Wolff</td>\n",
       "      <td>60</td>\n",
       "      <td>315.9</td>\n",
       "      <td>34748</td>\n",
       "      <td>110</td>\n",
       "    </tr>\n",
       "    <tr>\n",
       "      <th>4</th>\n",
       "      <td>Will Gordon</td>\n",
       "      <td>92</td>\n",
       "      <td>315.0</td>\n",
       "      <td>55434</td>\n",
       "      <td>176</td>\n",
       "    </tr>\n",
       "    <tr>\n",
       "      <th>...</th>\n",
       "      <td>...</td>\n",
       "      <td>...</td>\n",
       "      <td>...</td>\n",
       "      <td>...</td>\n",
       "      <td>...</td>\n",
       "    </tr>\n",
       "    <tr>\n",
       "      <th>191</th>\n",
       "      <td>Vaughn Taylor</td>\n",
       "      <td>81</td>\n",
       "      <td>278.4</td>\n",
       "      <td>43431</td>\n",
       "      <td>156</td>\n",
       "    </tr>\n",
       "    <tr>\n",
       "      <th>192</th>\n",
       "      <td>Brian Stuard</td>\n",
       "      <td>108</td>\n",
       "      <td>277.8</td>\n",
       "      <td>57772</td>\n",
       "      <td>208</td>\n",
       "    </tr>\n",
       "    <tr>\n",
       "      <th>193</th>\n",
       "      <td>Brendon Todd</td>\n",
       "      <td>93</td>\n",
       "      <td>275.2</td>\n",
       "      <td>47336</td>\n",
       "      <td>172</td>\n",
       "    </tr>\n",
       "    <tr>\n",
       "      <th>194</th>\n",
       "      <td>David Hearn</td>\n",
       "      <td>68</td>\n",
       "      <td>274.7</td>\n",
       "      <td>35166</td>\n",
       "      <td>128</td>\n",
       "    </tr>\n",
       "    <tr>\n",
       "      <th>195</th>\n",
       "      <td>K.J. Choi</td>\n",
       "      <td>54</td>\n",
       "      <td>269.2</td>\n",
       "      <td>27998</td>\n",
       "      <td>104</td>\n",
       "    </tr>\n",
       "  </tbody>\n",
       "</table>\n",
       "<p>196 rows × 5 columns</p>\n",
       "</div>"
      ],
      "text/plain": [
       "           PLAYER NAME  ROUNDS   AVG.  TOTAL DISTANCE  TOTAL DRIVES\n",
       "0    Bryson DeChambeau      83  323.7           51790           160\n",
       "1         Rory McIlroy      77  319.3           47252           148\n",
       "2        Cameron Champ      79  317.1           47568           150\n",
       "3        Matthew Wolff      60  315.9           34748           110\n",
       "4          Will Gordon      92  315.0           55434           176\n",
       "..                 ...     ...    ...             ...           ...\n",
       "191      Vaughn Taylor      81  278.4           43431           156\n",
       "192       Brian Stuard     108  277.8           57772           208\n",
       "193       Brendon Todd      93  275.2           47336           172\n",
       "194        David Hearn      68  274.7           35166           128\n",
       "195          K.J. Choi      54  269.2           27998           104\n",
       "\n",
       "[196 rows x 5 columns]"
      ]
     },
     "execution_count": 69,
     "metadata": {},
     "output_type": "execute_result"
    }
   ],
   "source": [
    "# Drop rank columns\n",
    "driving_distance.drop(columns=['RANK THIS WEEK', 'RANK LAST WEEK'], inplace=True)\n",
    "driving_distance"
   ]
  },
  {
   "cell_type": "code",
   "execution_count": 70,
   "metadata": {},
   "outputs": [
    {
     "name": "stdout",
     "output_type": "stream",
     "text": [
      "297.0051020408162\n",
      "296.85\n"
     ]
    }
   ],
   "source": [
    "# Summarize average column\n",
    "print(driving_distance['AVG.'].mean())\n",
    "print(driving_distance['AVG.'].median())\n"
   ]
  },
  {
   "cell_type": "code",
   "execution_count": 78,
   "metadata": {},
   "outputs": [
    {
     "data": {
      "text/plain": [
       "array([[<matplotlib.axes._subplots.AxesSubplot object at 0x7fc2892996d0>]],\n",
       "      dtype=object)"
      ]
     },
     "execution_count": 78,
     "metadata": {},
     "output_type": "execute_result"
    },
    {
     "data": {
      "image/png": "[encoded data removed]",
      "text/plain": [
       "<Figure size 432x288 with 1 Axes>"
      ]
     },
     "metadata": {
      "needs_background": "light"
     },
     "output_type": "display_data"
    }
   ],
   "source": [
    "# Histogram\n",
    "driving_distance.hist('AVG.', bins=10)"
   ]
  },
  {
   "cell_type": "code",
   "execution_count": null,
   "metadata": {},
   "outputs": [],
   "source": []
  }
 ],
 "metadata": {
  "interpreter": {
   "hash": "4bb9e210cb3be106e347983823d81e02c6cd472b1f750cd39aa9116d57b41478"
  },
  "kernelspec": {
   "display_name": "Python 3.8.3 64-bit ('base': conda)",
   "language": "python",
   "name": "python3"
  },
  "language_info": {
   "codemirror_mode": {
    "name": "ipython",
    "version": 3
   },
   "file_extension": ".py",
   "mimetype": "text/x-python",
   "name": "python",
   "nbconvert_exporter": "python",
   "pygments_lexer": "ipython3",
   "version": "3.8.3"
  },
  "orig_nbformat": 4
 },
 "nbformat": 4,
 "nbformat_minor": 2
}
